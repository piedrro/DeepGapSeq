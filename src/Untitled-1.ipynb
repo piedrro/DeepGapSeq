{
 "cells": [
  {
   "cell_type": "code",
   "execution_count": 1,
   "metadata": {},
   "outputs": [],
   "source": [
    "from DeepGapSeq.simulation.deepgapseq_trace_generator import trace_generator"
   ]
  },
  {
   "cell_type": "code",
   "execution_count": 2,
   "metadata": {},
   "outputs": [
    {
     "name": "stdout",
     "output_type": "stream",
     "text": [
      "Generating traces...\n"
     ]
    },
    {
     "name": "stderr",
     "output_type": "stream",
     "text": [
      "100%|██████████| 10/10 [00:00<00:00, 233.34it/s]"
     ]
    },
    {
     "name": "stdout",
     "output_type": "stream",
     "text": [
      "Spent 0.0 s to generate 6 traces\n",
      "Labels:  [0. 1.]\n",
      "exporting ebFRET SMD file to: e:\\OneDrive - Nexus365\\Desktop\\physics\\Year 4\\project\\DeepGapSeq\\src\\deepgapseq_simulated_traces\\trace_dataset_2023_10_30_SMD.mat\n"
     ]
    },
    {
     "name": "stderr",
     "output_type": "stream",
     "text": [
      "\n"
     ]
    }
   ],
   "source": [
    "generator = trace_generator(n_colors=1, \n",
    "                            n_states=2,\n",
    "                            n_frames=500,\n",
    "                            n_traces=10,\n",
    "                            export_mode=\"ebfret\",\n",
    "                            reduce_memory=True)\n",
    "\n",
    "training_data, training_labels = generator.generate_traces()"
   ]
  },
  {
   "cell_type": "code",
   "execution_count": 3,
   "metadata": {},
   "outputs": [
    {
     "name": "stdout",
     "output_type": "stream",
     "text": [
      "Collecting mat4py\n",
      "  Using cached mat4py-0.6.0-py2.py3-none-any.whl.metadata (2.8 kB)\n",
      "Using cached mat4py-0.6.0-py2.py3-none-any.whl (13 kB)\n",
      "Installing collected packages: mat4py\n",
      "Successfully installed mat4py-0.6.0\n",
      "Note: you may need to restart the kernel to use updated packages.\n"
     ]
    }
   ],
   "source": [
    "pip install mat4py"
   ]
  },
  {
   "cell_type": "code",
   "execution_count": 4,
   "metadata": {},
   "outputs": [
    {
     "ename": "TypeError",
     "evalue": "can't multiply sequence by non-int of type 'list'",
     "output_type": "error",
     "traceback": [
      "\u001b[1;31m---------------------------------------------------------------------------\u001b[0m",
      "\u001b[1;31mTypeError\u001b[0m                                 Traceback (most recent call last)",
      "\u001b[1;32me:\\OneDrive - Nexus365\\Desktop\\physics\\Year 4\\project\\DeepGapSeq\\Untitled-1.ipynb Cell 4\u001b[0m line \u001b[0;36m2\n\u001b[0;32m      <a href='vscode-notebook-cell:/e%3A/OneDrive%20-%20Nexus365/Desktop/physics/Year%204/project/DeepGapSeq/Untitled-1.ipynb#W4sZmlsZQ%3D%3D?line=0'>1</a>\u001b[0m \u001b[39mfor\u001b[39;00m i \u001b[39min\u001b[39;00m \u001b[39mrange\u001b[39m(ar\u001b[39m.\u001b[39mshape[\u001b[39m0\u001b[39m]):\n\u001b[1;32m----> <a href='vscode-notebook-cell:/e%3A/OneDrive%20-%20Nexus365/Desktop/physics/Year%204/project/DeepGapSeq/Untitled-1.ipynb#W4sZmlsZQ%3D%3D?line=1'>2</a>\u001b[0m     training_data[i] \u001b[39m=\u001b[39m np\u001b[39m.\u001b[39mhstack([[i]\u001b[39m*\u001b[39;49m[\u001b[39m1\u001b[39;49m],training_labels[i]])\n",
      "\u001b[1;31mTypeError\u001b[0m: can't multiply sequence by non-int of type 'list'"
     ]
    }
   ],
   "source": [
    "\n",
    "for i in range(ar.shape[0]):\n",
    "    training_data[i] = np.hstack([[i]*[1],training_labels[i]])\n"
   ]
  },
  {
   "cell_type": "code",
   "execution_count": 15,
   "metadata": {},
   "outputs": [],
   "source": [
    "a = training_data\n",
    "for i,trace in enumerate(a):\n",
    "    trace = np.hstack([np.expand_dims([i]*len(trace), 1),trace])\n",
    "ar = np.array(a)"
   ]
  },
  {
   "cell_type": "code",
   "execution_count": 6,
   "metadata": {},
   "outputs": [],
   "source": [
    "# Open the source CSV file and a destination file for the ASCII version\n",
    "with open(\"E:\\OneDrive - Nexus365\\Desktop\\physics\\Year 4\\project\\DeepGapSeq\\simulated_traces\\simulated_traces.csv\", 'r', encoding='utf-8') as source, open('ascii_version.csv', 'w') as dest:\n",
    "    for line in source:\n",
    "        # Convert each character in the line to its ASCII representation, \n",
    "        # if it's outside the ASCII range (0-127), replace it with a '?'\n",
    "        ascii_line = ''.join(char if ord(char) < 128 else '?' for char in line)\n",
    "        dest.write(ascii_line)\n"
   ]
  },
  {
   "cell_type": "code",
   "execution_count": null,
   "metadata": {},
   "outputs": [],
   "source": []
  }
 ],
 "metadata": {
  "kernelspec": {
   "display_name": "DeepGapSeq",
   "language": "python",
   "name": "python3"
  },
  "language_info": {
   "codemirror_mode": {
    "name": "ipython",
    "version": 3
   },
   "file_extension": ".py",
   "mimetype": "text/x-python",
   "name": "python",
   "nbconvert_exporter": "python",
   "pygments_lexer": "ipython3",
   "version": "3.9.0"
  }
 },
 "nbformat": 4,
 "nbformat_minor": 2
}
