{
 "cells": [
  {
   "cell_type": "code",
   "execution_count": 1,
   "metadata": {},
   "outputs": [],
   "source": [
    "from DeepGapSeq.simulation.deepgapseq_trace_generator import trace_generator\n",
    "from DeepGapSeq.hmm_fitting.model import *\n",
    "import numpy as np"
   ]
  },
  {
   "cell_type": "code",
   "execution_count": 9,
   "metadata": {},
   "outputs": [
    {
     "name": "stdout",
     "output_type": "stream",
     "text": [
      "Generating traces...\n"
     ]
    },
    {
     "name": "stderr",
     "output_type": "stream",
     "text": [
      "100%|██████████| 10/10 [00:00<00:00, 74.80it/s]"
     ]
    },
    {
     "name": "stdout",
     "output_type": "stream",
     "text": [
      "Spent 0.2 s to generate 7 traces\n",
      "Labels:  [0. 1.]\n",
      "exporting txt files to: e:\\OneDrive - Nexus365\\Desktop\\physics\\Year 4\\project\\DeepGapSeq\\src\\deepgapseq_simulated_traces\n"
     ]
    },
    {
     "name": "stderr",
     "output_type": "stream",
     "text": [
      "\n"
     ]
    }
   ],
   "source": [
    "generator = trace_generator(n_colors=1, \n",
    "                            n_states=2,\n",
    "                            n_frames=500,\n",
    "                            n_traces=10,\n",
    "                            export_mode=\"csv\",\n",
    "                            reduce_memory=True)\n",
    "\n",
    "training_data, training_labels = generator.generate_traces()"
   ]
  },
  {
   "cell_type": "code",
   "execution_count": 3,
   "metadata": {},
   "outputs": [],
   "source": [
    "training_data = np.array(training_data)\n",
    "data = training_data.reshape(training_data.shape[0]*training_data.shape[1], 2)\n",
    "E_FRET = data[:,1]/(data[:,0]+data[:,1])\n",
    "training_labels = np.array(training_labels)\n",
    "labels = training_labels.reshape(training_labels.shape[0]*training_labels.shape[1])"
   ]
  },
  {
   "cell_type": "code",
   "execution_count": 4,
   "metadata": {},
   "outputs": [],
   "source": [
    "# model = HMM_pg(n_states=2)\n",
    "# model.fit(data)"
   ]
  },
  {
   "cell_type": "code",
   "execution_count": 5,
   "metadata": {},
   "outputs": [],
   "source": [
    "model2 = HMM_learn(n_states=2)\n",
    "model2.fit(data)"
   ]
  },
  {
   "cell_type": "code",
   "execution_count": 6,
   "metadata": {},
   "outputs": [],
   "source": [
    "predicted_states = model2.model.predict(data)\n",
    "transmat = model2.model.transmat_"
   ]
  },
  {
   "cell_type": "code",
   "execution_count": 7,
   "metadata": {},
   "outputs": [],
   "source": [
    "def get_score(predicted_states, labels):\n",
    "    score = 0\n",
    "    for i in range(predicted_states.shape[0]):\n",
    "        if predicted_states[i] == labels[i]:\n",
    "            score += 1\n",
    "    return score/len(predicted_states)"
   ]
  },
  {
   "cell_type": "code",
   "execution_count": 8,
   "metadata": {},
   "outputs": [
    {
     "data": {
      "text/plain": [
       "0.5007552674230146"
      ]
     },
     "execution_count": 8,
     "metadata": {},
     "output_type": "execute_result"
    }
   ],
   "source": [
    "get_score(predicted_states, labels)"
   ]
  },
  {
   "cell_type": "code",
   "execution_count": null,
   "metadata": {},
   "outputs": [],
   "source": []
  }
 ],
 "metadata": {
  "kernelspec": {
   "display_name": "DeepGapSeq",
   "language": "python",
   "name": "python3"
  },
  "language_info": {
   "codemirror_mode": {
    "name": "ipython",
    "version": 3
   },
   "file_extension": ".py",
   "mimetype": "text/x-python",
   "name": "python",
   "nbconvert_exporter": "python",
   "pygments_lexer": "ipython3",
   "version": "3.9.0"
  }
 },
 "nbformat": 4,
 "nbformat_minor": 2
}
