{
 "cells": [
  {
   "cell_type": "code",
   "execution_count": 1,
   "metadata": {},
   "outputs": [],
   "source": [
    "from DeepGapSeq.simulation.deepgapseq_trace_generator import trace_generator\n",
    "from DeepGapSeq.hmm_fitting.model import *\n",
    "import numpy as np\n",
    "from sklearn.metrics import accuracy_score, confusion_matrix, classification_report\n",
    "from tqdm.notebook import tqdm\n"
   ]
  },
  {
   "cell_type": "code",
   "execution_count": 2,
   "metadata": {},
   "outputs": [],
   "source": [
    "def count_transitions(labels):\n",
    "    n_trans = 0\n",
    "    for i in range(len(labels)):\n",
    "        if i == 0:\n",
    "            continue\n",
    "        else:\n",
    "            if labels[i] != labels[i-1]:\n",
    "                n_trans += 1\n",
    "    return n_trans"
   ]
  },
  {
   "cell_type": "code",
   "execution_count": 24,
   "metadata": {},
   "outputs": [
    {
     "name": "stdout",
     "output_type": "stream",
     "text": [
      "Generating traces...\n"
     ]
    },
    {
     "name": "stderr",
     "output_type": "stream",
     "text": [
      "100%|██████████| 1/1 [00:00<00:00, 35.79it/s]"
     ]
    },
    {
     "name": "stdout",
     "output_type": "stream",
     "text": [
      "Spent 0.0 s to generate 1 traces\n",
      "Labels:  [0. 1. 2.]\n",
      "exporting txt files to: e:\\OneDrive - Nexus365\\Desktop\\physics\\Year 4\\project\\DeepGapSeq\\src\\deepgapseq_simulated_traces\n"
     ]
    },
    {
     "name": "stderr",
     "output_type": "stream",
     "text": [
      "\n"
     ]
    }
   ],
   "source": [
    "generator = trace_generator(n_colors=2, \n",
    "                            n_states=3,\n",
    "                            n_frames=5000,\n",
    "                            n_traces=1,\n",
    "                            export_mode=\"text_files\",\n",
    "                            reduce_memory=True,\n",
    "                            )\n",
    "\n",
    "training_data, training_labels, training_tmats= generator.generate_traces()"
   ]
  },
  {
   "cell_type": "code",
   "execution_count": 25,
   "metadata": {},
   "outputs": [],
   "source": [
    "simulated_traces = np.array(training_data)\n",
    "labels = np.array(training_labels).reshape(-1)\n",
    "tmats = np.array(training_tmats)\n",
    "E_FRET = np.array(simulated_traces[:,:,1]/(simulated_traces[:,:,0]+simulated_traces[:,:,1])).reshape(-1)"
   ]
  },
  {
   "cell_type": "code",
   "execution_count": 32,
   "metadata": {},
   "outputs": [
    {
     "name": "stdout",
     "output_type": "stream",
     "text": [
      "correct estimation rate: 0.3344\n",
      "transition matrix:\n",
      "[[0.00000000e+000 0.00000000e+000 1.00000000e+000 0.00000000e+000\n",
      "  0.00000000e+000]\n",
      " [0.00000000e+000 0.00000000e+000 1.00000000e+000 0.00000000e+000\n",
      "  0.00000000e+000]\n",
      " [1.03999477e-009 9.99999999e-001 0.00000000e+000 0.00000000e+000\n",
      "  0.00000000e+000]\n",
      " [3.37800000e-001 8.86002992e-250 6.62200000e-001 0.00000000e+000\n",
      "  0.00000000e+000]\n",
      " [0.00000000e+000 0.00000000e+000 0.00000000e+000 0.00000000e+000\n",
      "  0.00000000e+000]]\n"
     ]
    }
   ],
   "source": [
    "model = HMM_pg(n_states=3)\n",
    "model.fit(simulated_traces[0])\n",
    "predicted_states = model.predict(simulated_traces[0])\n",
    "score, fitted_tmat = model.get_performance(predicted_states,labels,verbose=True)"
   ]
  },
  {
   "cell_type": "code",
   "execution_count": 31,
   "metadata": {},
   "outputs": [
    {
     "data": {
      "text/plain": [
       "array([[0.77777778, 0.11111111, 0.11111111],\n",
       "       [0.11111111, 0.77777778, 0.11111111],\n",
       "       [0.11111111, 0.11111111, 0.77777778]])"
      ]
     },
     "execution_count": 31,
     "metadata": {},
     "output_type": "execute_result"
    }
   ],
   "source": [
    "tmats[0]"
   ]
  },
  {
   "cell_type": "code",
   "execution_count": 28,
   "metadata": {},
   "outputs": [
    {
     "data": {
      "text/plain": [
       "1085"
      ]
     },
     "execution_count": 28,
     "metadata": {},
     "output_type": "execute_result"
    }
   ],
   "source": [
    "count_transitions(labels)"
   ]
  },
  {
   "cell_type": "code",
   "execution_count": 29,
   "metadata": {},
   "outputs": [
    {
     "data": {
      "text/plain": [
       "4999"
      ]
     },
     "execution_count": 29,
     "metadata": {},
     "output_type": "execute_result"
    }
   ],
   "source": [
    "count_transitions(predicted_states)"
   ]
  },
  {
   "cell_type": "code",
   "execution_count": null,
   "metadata": {},
   "outputs": [],
   "source": [
    "scores = []\n",
    "for i in tqdm(range(simulated_traces.shape[0])):\n",
    "    model = HMM_pg(n_states=2,algorithem=\"viterbi\")\n",
    "    model.fit(simulated_traces[i])\n",
    "    predicted_states = model.predict(simulated_traces[i])\n",
    "    score, _ = model.get_performance(predicted_states,labels[i])\n",
    "print(np.mean(scores))"
   ]
  },
  {
   "cell_type": "code",
   "execution_count": 9,
   "metadata": {},
   "outputs": [
    {
     "data": {
      "text/plain": [
       "1"
      ]
     },
     "execution_count": 9,
     "metadata": {},
     "output_type": "execute_result"
    }
   ],
   "source": [
    "predicted_states[3]"
   ]
  },
  {
   "cell_type": "code",
   "execution_count": 10,
   "metadata": {},
   "outputs": [
    {
     "data": {
      "text/plain": [
       "0.0"
      ]
     },
     "execution_count": 10,
     "metadata": {},
     "output_type": "execute_result"
    }
   ],
   "source": [
    "labels[3]"
   ]
  },
  {
   "cell_type": "code",
   "execution_count": null,
   "metadata": {},
   "outputs": [],
   "source": []
  }
 ],
 "metadata": {
  "kernelspec": {
   "display_name": "DeepGapSeq",
   "language": "python",
   "name": "python3"
  },
  "language_info": {
   "codemirror_mode": {
    "name": "ipython",
    "version": 3
   },
   "file_extension": ".py",
   "mimetype": "text/x-python",
   "name": "python",
   "nbconvert_exporter": "python",
   "pygments_lexer": "ipython3",
   "version": "3.9.0"
  }
 },
 "nbformat": 4,
 "nbformat_minor": 2
}
