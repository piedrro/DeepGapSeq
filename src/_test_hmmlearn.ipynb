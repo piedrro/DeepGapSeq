{
 "cells": [
  {
   "cell_type": "code",
   "execution_count": 1,
   "metadata": {},
   "outputs": [],
   "source": [
    "from DeepGapSeq.simulation.deepgapseq_trace_generator import trace_generator\n",
    "from DeepGapSeq.hmm_fitting.model import *\n",
    "import numpy as np\n",
    "from sklearn.metrics import accuracy_score, confusion_matrix, classification_report\n",
    "from tqdm.notebook import tqdm\n"
   ]
  },
  {
   "cell_type": "code",
   "execution_count": 21,
   "metadata": {},
   "outputs": [
    {
     "name": "stdout",
     "output_type": "stream",
     "text": [
      "Generating traces...\n"
     ]
    },
    {
     "name": "stderr",
     "output_type": "stream",
     "text": [
      "100%|██████████| 100/100 [00:00<00:00, 246.48it/s]\n"
     ]
    },
    {
     "name": "stdout",
     "output_type": "stream",
     "text": [
      "Spent 0.4 s to generate 49 traces\n",
      "Labels:  [0. 1.]\n",
      "exporting txt files to: e:\\OneDrive - Nexus365\\Desktop\\physics\\Year 4\\project\\DeepGapSeq\\src\\deepgapseq_simulated_traces\n"
     ]
    }
   ],
   "source": [
    "generator = trace_generator(n_colors=2, \n",
    "                            n_states=2,\n",
    "                            n_frames=500,\n",
    "                            n_traces=100,\n",
    "                            export_mode=\"text_files\",\n",
    "                            reduce_memory=False,\n",
    "                            )\n",
    "\n",
    "training_data, training_labels, training_tmats = generator.generate_traces()"
   ]
  },
  {
   "cell_type": "code",
   "execution_count": 22,
   "metadata": {},
   "outputs": [],
   "source": [
    "simulated_traces = np.array(training_data)\n",
    "labels = np.array(training_labels)\n",
    "tmats = np.array(training_tmats)\n",
    "\n",
    "lengths = np.array([generator.n_frames]*(int(len(labels)/generator.n_frames)))\n",
    "# E_FRET = np.array(data[:,1]/(data[:,0]+data[:,1])).reshape(-1,1)"
   ]
  },
  {
   "cell_type": "code",
   "execution_count": 23,
   "metadata": {},
   "outputs": [
    {
     "data": {
      "application/json": {
       "ascii": false,
       "bar_format": null,
       "colour": null,
       "elapsed": 0.004022121429443359,
       "initial": 0,
       "n": 0,
       "ncols": null,
       "nrows": null,
       "postfix": null,
       "prefix": "",
       "rate": null,
       "total": 49,
       "unit": "it",
       "unit_divisor": 1000,
       "unit_scale": false
      },
      "application/vnd.jupyter.widget-view+json": {
       "model_id": "ae3bcf35ad2f43f28187d211b8ad20e7",
       "version_major": 2,
       "version_minor": 0
      },
      "text/plain": [
       "  0%|          | 0/49 [00:00<?, ?it/s]"
      ]
     },
     "metadata": {},
     "output_type": "display_data"
    },
    {
     "name": "stderr",
     "output_type": "stream",
     "text": [
      "Model is not converging.  Current: 11403.972882387196 is not greater than 23832.84924410106. Delta is -12428.876361713865\n",
      "Model is not converging.  Current: 16366.56564960567 is not greater than 30346.370305963097. Delta is -13979.804656357426\n"
     ]
    },
    {
     "ename": "ValueError",
     "evalue": "'covars' must be symmetric, positive-definite",
     "output_type": "error",
     "traceback": [
      "\u001b[1;31m---------------------------------------------------------------------------\u001b[0m",
      "\u001b[1;31mLinAlgError\u001b[0m                               Traceback (most recent call last)",
      "File \u001b[1;32m~\\AppData\\Roaming\\Python\\Python39\\site-packages\\hmmlearn\\stats.py:81\u001b[0m, in \u001b[0;36m_log_multivariate_normal_density_full\u001b[1;34m(X, means, covars, min_covar)\u001b[0m\n\u001b[0;32m     80\u001b[0m \u001b[39mtry\u001b[39;00m:\n\u001b[1;32m---> 81\u001b[0m     cv_chol \u001b[39m=\u001b[39m linalg\u001b[39m.\u001b[39;49mcholesky(cv, lower\u001b[39m=\u001b[39;49m\u001b[39mTrue\u001b[39;49;00m)\n\u001b[0;32m     82\u001b[0m \u001b[39mexcept\u001b[39;00m linalg\u001b[39m.\u001b[39mLinAlgError:\n\u001b[0;32m     83\u001b[0m     \u001b[39m# The model is most probably stuck in a component with too\u001b[39;00m\n\u001b[0;32m     84\u001b[0m     \u001b[39m# few observations, we need to reinitialize this components\u001b[39;00m\n",
      "File \u001b[1;32mc:\\Users\\asus\\anaconda3\\envs\\DeepGapSeq\\lib\\site-packages\\scipy\\linalg\\_decomp_cholesky.py:89\u001b[0m, in \u001b[0;36mcholesky\u001b[1;34m(a, lower, overwrite_a, check_finite)\u001b[0m\n\u001b[0;32m     46\u001b[0m \u001b[39m\u001b[39m\u001b[39m\"\"\"\u001b[39;00m\n\u001b[0;32m     47\u001b[0m \u001b[39mCompute the Cholesky decomposition of a matrix.\u001b[39;00m\n\u001b[0;32m     48\u001b[0m \n\u001b[1;32m   (...)\u001b[0m\n\u001b[0;32m     87\u001b[0m \n\u001b[0;32m     88\u001b[0m \u001b[39m\"\"\"\u001b[39;00m\n\u001b[1;32m---> 89\u001b[0m c, lower \u001b[39m=\u001b[39m _cholesky(a, lower\u001b[39m=\u001b[39;49mlower, overwrite_a\u001b[39m=\u001b[39;49moverwrite_a, clean\u001b[39m=\u001b[39;49m\u001b[39mTrue\u001b[39;49;00m,\n\u001b[0;32m     90\u001b[0m                      check_finite\u001b[39m=\u001b[39;49mcheck_finite)\n\u001b[0;32m     91\u001b[0m \u001b[39mreturn\u001b[39;00m c\n",
      "File \u001b[1;32mc:\\Users\\asus\\anaconda3\\envs\\DeepGapSeq\\lib\\site-packages\\scipy\\linalg\\_decomp_cholesky.py:37\u001b[0m, in \u001b[0;36m_cholesky\u001b[1;34m(a, lower, overwrite_a, clean, check_finite)\u001b[0m\n\u001b[0;32m     36\u001b[0m \u001b[39mif\u001b[39;00m info \u001b[39m>\u001b[39m \u001b[39m0\u001b[39m:\n\u001b[1;32m---> 37\u001b[0m     \u001b[39mraise\u001b[39;00m LinAlgError(\u001b[39m\"\u001b[39m\u001b[39m%d\u001b[39;00m\u001b[39m-th leading minor of the array is not positive \u001b[39m\u001b[39m\"\u001b[39m\n\u001b[0;32m     38\u001b[0m                       \u001b[39m\"\u001b[39m\u001b[39mdefinite\u001b[39m\u001b[39m\"\u001b[39m \u001b[39m%\u001b[39m info)\n\u001b[0;32m     39\u001b[0m \u001b[39mif\u001b[39;00m info \u001b[39m<\u001b[39m \u001b[39m0\u001b[39m:\n",
      "\u001b[1;31mLinAlgError\u001b[0m: 4-th leading minor of the array is not positive definite",
      "\nDuring handling of the above exception, another exception occurred:\n",
      "\u001b[1;31mLinAlgError\u001b[0m                               Traceback (most recent call last)",
      "File \u001b[1;32m~\\AppData\\Roaming\\Python\\Python39\\site-packages\\hmmlearn\\stats.py:86\u001b[0m, in \u001b[0;36m_log_multivariate_normal_density_full\u001b[1;34m(X, means, covars, min_covar)\u001b[0m\n\u001b[0;32m     85\u001b[0m \u001b[39mtry\u001b[39;00m:\n\u001b[1;32m---> 86\u001b[0m     cv_chol \u001b[39m=\u001b[39m linalg\u001b[39m.\u001b[39;49mcholesky(cv \u001b[39m+\u001b[39;49m min_covar \u001b[39m*\u001b[39;49m np\u001b[39m.\u001b[39;49meye(nf),\n\u001b[0;32m     87\u001b[0m                               lower\u001b[39m=\u001b[39;49m\u001b[39mTrue\u001b[39;49;00m)\n\u001b[0;32m     88\u001b[0m \u001b[39mexcept\u001b[39;00m linalg\u001b[39m.\u001b[39mLinAlgError:\n",
      "File \u001b[1;32mc:\\Users\\asus\\anaconda3\\envs\\DeepGapSeq\\lib\\site-packages\\scipy\\linalg\\_decomp_cholesky.py:89\u001b[0m, in \u001b[0;36mcholesky\u001b[1;34m(a, lower, overwrite_a, check_finite)\u001b[0m\n\u001b[0;32m     46\u001b[0m \u001b[39m\u001b[39m\u001b[39m\"\"\"\u001b[39;00m\n\u001b[0;32m     47\u001b[0m \u001b[39mCompute the Cholesky decomposition of a matrix.\u001b[39;00m\n\u001b[0;32m     48\u001b[0m \n\u001b[1;32m   (...)\u001b[0m\n\u001b[0;32m     87\u001b[0m \n\u001b[0;32m     88\u001b[0m \u001b[39m\"\"\"\u001b[39;00m\n\u001b[1;32m---> 89\u001b[0m c, lower \u001b[39m=\u001b[39m _cholesky(a, lower\u001b[39m=\u001b[39;49mlower, overwrite_a\u001b[39m=\u001b[39;49moverwrite_a, clean\u001b[39m=\u001b[39;49m\u001b[39mTrue\u001b[39;49;00m,\n\u001b[0;32m     90\u001b[0m                      check_finite\u001b[39m=\u001b[39;49mcheck_finite)\n\u001b[0;32m     91\u001b[0m \u001b[39mreturn\u001b[39;00m c\n",
      "File \u001b[1;32mc:\\Users\\asus\\anaconda3\\envs\\DeepGapSeq\\lib\\site-packages\\scipy\\linalg\\_decomp_cholesky.py:37\u001b[0m, in \u001b[0;36m_cholesky\u001b[1;34m(a, lower, overwrite_a, clean, check_finite)\u001b[0m\n\u001b[0;32m     36\u001b[0m \u001b[39mif\u001b[39;00m info \u001b[39m>\u001b[39m \u001b[39m0\u001b[39m:\n\u001b[1;32m---> 37\u001b[0m     \u001b[39mraise\u001b[39;00m LinAlgError(\u001b[39m\"\u001b[39m\u001b[39m%d\u001b[39;00m\u001b[39m-th leading minor of the array is not positive \u001b[39m\u001b[39m\"\u001b[39m\n\u001b[0;32m     38\u001b[0m                       \u001b[39m\"\u001b[39m\u001b[39mdefinite\u001b[39m\u001b[39m\"\u001b[39m \u001b[39m%\u001b[39m info)\n\u001b[0;32m     39\u001b[0m \u001b[39mif\u001b[39;00m info \u001b[39m<\u001b[39m \u001b[39m0\u001b[39m:\n",
      "\u001b[1;31mLinAlgError\u001b[0m: 4-th leading minor of the array is not positive definite",
      "\nDuring handling of the above exception, another exception occurred:\n",
      "\u001b[1;31mValueError\u001b[0m                                Traceback (most recent call last)",
      "\u001b[1;32me:\\OneDrive - Nexus365\\Desktop\\physics\\Year 4\\project\\DeepGapSeq\\src\\_test_hmmlearn.ipynb Cell 4\u001b[0m line \u001b[0;36m5\n\u001b[0;32m      <a href='vscode-notebook-cell:/e%3A/OneDrive%20-%20Nexus365/Desktop/physics/Year%204/project/DeepGapSeq/src/_test_hmmlearn.ipynb#W6sZmlsZQ%3D%3D?line=2'>3</a>\u001b[0m     model \u001b[39m=\u001b[39m HMM_learn(n_states\u001b[39m=\u001b[39m\u001b[39m2\u001b[39m)\n\u001b[0;32m      <a href='vscode-notebook-cell:/e%3A/OneDrive%20-%20Nexus365/Desktop/physics/Year%204/project/DeepGapSeq/src/_test_hmmlearn.ipynb#W6sZmlsZQ%3D%3D?line=3'>4</a>\u001b[0m     model\u001b[39m.\u001b[39mfit(simulated_traces[i])\n\u001b[1;32m----> <a href='vscode-notebook-cell:/e%3A/OneDrive%20-%20Nexus365/Desktop/physics/Year%204/project/DeepGapSeq/src/_test_hmmlearn.ipynb#W6sZmlsZQ%3D%3D?line=4'>5</a>\u001b[0m     predicted_states \u001b[39m=\u001b[39m model\u001b[39m.\u001b[39;49mpredict(simulated_traces[i])\n\u001b[0;32m      <a href='vscode-notebook-cell:/e%3A/OneDrive%20-%20Nexus365/Desktop/physics/Year%204/project/DeepGapSeq/src/_test_hmmlearn.ipynb#W6sZmlsZQ%3D%3D?line=5'>6</a>\u001b[0m     scores\u001b[39m.\u001b[39mappend(model\u001b[39m.\u001b[39mget_performance(predicted_states,labels[i]))\n\u001b[0;32m      <a href='vscode-notebook-cell:/e%3A/OneDrive%20-%20Nexus365/Desktop/physics/Year%204/project/DeepGapSeq/src/_test_hmmlearn.ipynb#W6sZmlsZQ%3D%3D?line=6'>7</a>\u001b[0m \u001b[39mprint\u001b[39m(np\u001b[39m.\u001b[39mmean(scores))\n",
      "File \u001b[1;32me:\\OneDrive - Nexus365\\Desktop\\physics\\Year 4\\project\\DeepGapSeq\\src\\DeepGapSeq\\hmm_fitting\\model.py:76\u001b[0m, in \u001b[0;36mHMM_learn.predict\u001b[1;34m(self, data, lengths)\u001b[0m\n\u001b[0;32m     74\u001b[0m data \u001b[39m=\u001b[39m data \u001b[39m-\u001b[39m np\u001b[39m.\u001b[39mmean(data)\n\u001b[0;32m     75\u001b[0m data \u001b[39m=\u001b[39m data \u001b[39m/\u001b[39m np\u001b[39m.\u001b[39mstd(data)\n\u001b[1;32m---> 76\u001b[0m \u001b[39mreturn\u001b[39;00m \u001b[39mself\u001b[39;49m\u001b[39m.\u001b[39;49mmodel\u001b[39m.\u001b[39;49mpredict(data,lengths)\n",
      "File \u001b[1;32m~\\AppData\\Roaming\\Python\\Python39\\site-packages\\hmmlearn\\base.py:363\u001b[0m, in \u001b[0;36m_AbstractHMM.predict\u001b[1;34m(self, X, lengths)\u001b[0m\n\u001b[0;32m    346\u001b[0m \u001b[39mdef\u001b[39;00m \u001b[39mpredict\u001b[39m(\u001b[39mself\u001b[39m, X, lengths\u001b[39m=\u001b[39m\u001b[39mNone\u001b[39;00m):\n\u001b[0;32m    347\u001b[0m \u001b[39m    \u001b[39m\u001b[39m\"\"\"\u001b[39;00m\n\u001b[0;32m    348\u001b[0m \u001b[39m    Find most likely state sequence corresponding to ``X``.\u001b[39;00m\n\u001b[0;32m    349\u001b[0m \n\u001b[1;32m   (...)\u001b[0m\n\u001b[0;32m    361\u001b[0m \u001b[39m        Labels for each sample from ``X``.\u001b[39;00m\n\u001b[0;32m    362\u001b[0m \u001b[39m    \"\"\"\u001b[39;00m\n\u001b[1;32m--> 363\u001b[0m     _, state_sequence \u001b[39m=\u001b[39m \u001b[39mself\u001b[39;49m\u001b[39m.\u001b[39;49mdecode(X, lengths)\n\u001b[0;32m    364\u001b[0m     \u001b[39mreturn\u001b[39;00m state_sequence\n",
      "File \u001b[1;32m~\\AppData\\Roaming\\Python\\Python39\\site-packages\\hmmlearn\\base.py:340\u001b[0m, in \u001b[0;36m_AbstractHMM.decode\u001b[1;34m(self, X, lengths, algorithm)\u001b[0m\n\u001b[0;32m    337\u001b[0m sub_state_sequences \u001b[39m=\u001b[39m []\n\u001b[0;32m    338\u001b[0m \u001b[39mfor\u001b[39;00m sub_X \u001b[39min\u001b[39;00m _utils\u001b[39m.\u001b[39msplit_X_lengths(X, lengths):\n\u001b[0;32m    339\u001b[0m     \u001b[39m# XXX decoder works on a single sample at a time!\u001b[39;00m\n\u001b[1;32m--> 340\u001b[0m     sub_log_prob, sub_state_sequence \u001b[39m=\u001b[39m decoder(sub_X)\n\u001b[0;32m    341\u001b[0m     log_prob \u001b[39m+\u001b[39m\u001b[39m=\u001b[39m sub_log_prob\n\u001b[0;32m    342\u001b[0m     sub_state_sequences\u001b[39m.\u001b[39mappend(sub_state_sequence)\n",
      "File \u001b[1;32m~\\AppData\\Roaming\\Python\\Python39\\site-packages\\hmmlearn\\base.py:285\u001b[0m, in \u001b[0;36m_AbstractHMM._decode_viterbi\u001b[1;34m(self, X)\u001b[0m\n\u001b[0;32m    284\u001b[0m \u001b[39mdef\u001b[39;00m \u001b[39m_decode_viterbi\u001b[39m(\u001b[39mself\u001b[39m, X):\n\u001b[1;32m--> 285\u001b[0m     log_frameprob \u001b[39m=\u001b[39m \u001b[39mself\u001b[39;49m\u001b[39m.\u001b[39;49m_compute_log_likelihood(X)\n\u001b[0;32m    286\u001b[0m     \u001b[39mreturn\u001b[39;00m _hmmc\u001b[39m.\u001b[39mviterbi(\u001b[39mself\u001b[39m\u001b[39m.\u001b[39mstartprob_, \u001b[39mself\u001b[39m\u001b[39m.\u001b[39mtransmat_, log_frameprob)\n",
      "File \u001b[1;32m~\\AppData\\Roaming\\Python\\Python39\\site-packages\\hmmlearn\\_emissions.py:130\u001b[0m, in \u001b[0;36mBaseGaussianHMM._compute_log_likelihood\u001b[1;34m(self, X)\u001b[0m\n\u001b[0;32m    129\u001b[0m \u001b[39mdef\u001b[39;00m \u001b[39m_compute_log_likelihood\u001b[39m(\u001b[39mself\u001b[39m, X):\n\u001b[1;32m--> 130\u001b[0m     \u001b[39mreturn\u001b[39;00m log_multivariate_normal_density(\n\u001b[0;32m    131\u001b[0m         X, \u001b[39mself\u001b[39;49m\u001b[39m.\u001b[39;49mmeans_, \u001b[39mself\u001b[39;49m\u001b[39m.\u001b[39;49m_covars_, \u001b[39mself\u001b[39;49m\u001b[39m.\u001b[39;49mcovariance_type)\n",
      "File \u001b[1;32m~\\AppData\\Roaming\\Python\\Python39\\site-packages\\hmmlearn\\stats.py:42\u001b[0m, in \u001b[0;36mlog_multivariate_normal_density\u001b[1;34m(X, means, covars, covariance_type)\u001b[0m\n\u001b[0;32m      6\u001b[0m \u001b[39m\u001b[39m\u001b[39m\"\"\"\u001b[39;00m\n\u001b[0;32m      7\u001b[0m \u001b[39mCompute the log probability under a multivariate Gaussian distribution.\u001b[39;00m\n\u001b[0;32m      8\u001b[0m \n\u001b[1;32m   (...)\u001b[0m\n\u001b[0;32m     35\u001b[0m \u001b[39m    X under each of the n_components multivariate Gaussian distributions.\u001b[39;00m\n\u001b[0;32m     36\u001b[0m \u001b[39m\"\"\"\u001b[39;00m\n\u001b[0;32m     37\u001b[0m log_multivariate_normal_density_dict \u001b[39m=\u001b[39m {\n\u001b[0;32m     38\u001b[0m     \u001b[39m'\u001b[39m\u001b[39mspherical\u001b[39m\u001b[39m'\u001b[39m: _log_multivariate_normal_density_spherical,\n\u001b[0;32m     39\u001b[0m     \u001b[39m'\u001b[39m\u001b[39mtied\u001b[39m\u001b[39m'\u001b[39m: _log_multivariate_normal_density_tied,\n\u001b[0;32m     40\u001b[0m     \u001b[39m'\u001b[39m\u001b[39mdiag\u001b[39m\u001b[39m'\u001b[39m: _log_multivariate_normal_density_diag,\n\u001b[0;32m     41\u001b[0m     \u001b[39m'\u001b[39m\u001b[39mfull\u001b[39m\u001b[39m'\u001b[39m: _log_multivariate_normal_density_full}\n\u001b[1;32m---> 42\u001b[0m \u001b[39mreturn\u001b[39;00m log_multivariate_normal_density_dict[covariance_type](\n\u001b[0;32m     43\u001b[0m     X, means, covars\n\u001b[0;32m     44\u001b[0m )\n",
      "File \u001b[1;32m~\\AppData\\Roaming\\Python\\Python39\\site-packages\\hmmlearn\\stats.py:89\u001b[0m, in \u001b[0;36m_log_multivariate_normal_density_full\u001b[1;34m(X, means, covars, min_covar)\u001b[0m\n\u001b[0;32m     86\u001b[0m         cv_chol \u001b[39m=\u001b[39m linalg\u001b[39m.\u001b[39mcholesky(cv \u001b[39m+\u001b[39m min_covar \u001b[39m*\u001b[39m np\u001b[39m.\u001b[39meye(nf),\n\u001b[0;32m     87\u001b[0m                                   lower\u001b[39m=\u001b[39m\u001b[39mTrue\u001b[39;00m)\n\u001b[0;32m     88\u001b[0m     \u001b[39mexcept\u001b[39;00m linalg\u001b[39m.\u001b[39mLinAlgError:\n\u001b[1;32m---> 89\u001b[0m         \u001b[39mraise\u001b[39;00m \u001b[39mValueError\u001b[39;00m(\u001b[39m\"\u001b[39m\u001b[39m'\u001b[39m\u001b[39mcovars\u001b[39m\u001b[39m'\u001b[39m\u001b[39m must be symmetric, \u001b[39m\u001b[39m\"\u001b[39m\n\u001b[0;32m     90\u001b[0m                          \u001b[39m\"\u001b[39m\u001b[39mpositive-definite\u001b[39m\u001b[39m\"\u001b[39m)\n\u001b[0;32m     92\u001b[0m cv_log_det \u001b[39m=\u001b[39m \u001b[39m2\u001b[39m \u001b[39m*\u001b[39m np\u001b[39m.\u001b[39msum(np\u001b[39m.\u001b[39mlog(np\u001b[39m.\u001b[39mdiagonal(cv_chol)))\n\u001b[0;32m     93\u001b[0m cv_sol \u001b[39m=\u001b[39m linalg\u001b[39m.\u001b[39msolve_triangular(cv_chol, (X \u001b[39m-\u001b[39m mu)\u001b[39m.\u001b[39mT, lower\u001b[39m=\u001b[39m\u001b[39mTrue\u001b[39;00m)\u001b[39m.\u001b[39mT\n",
      "\u001b[1;31mValueError\u001b[0m: 'covars' must be symmetric, positive-definite"
     ]
    }
   ],
   "source": [
    "scores = []\n",
    "for i in tqdm(range(simulated_traces.shape[0])):\n",
    "    model = HMM_learn(n_states=2)\n",
    "    model.fit(simulated_traces[i])\n",
    "    predicted_states = model.predict(simulated_traces[i])\n",
    "    scores.append(model.get_performance(predicted_states,labels[i]))\n",
    "print(np.mean(scores))"
   ]
  },
  {
   "cell_type": "code",
   "execution_count": 24,
   "metadata": {},
   "outputs": [
    {
     "data": {
      "text/plain": [
       "array([[[0.96      , 0.04      ],\n",
       "        [0.04      , 0.96      ]],\n",
       "\n",
       "       [[0.95238095, 0.04761905],\n",
       "        [0.04761905, 0.95238095]],\n",
       "\n",
       "       [[0.98795181, 0.01204819],\n",
       "        [0.01204819, 0.98795181]],\n",
       "\n",
       "       [[0.97058824, 0.02941176],\n",
       "        [0.02941176, 0.97058824]],\n",
       "\n",
       "       [[0.9893617 , 0.0106383 ],\n",
       "        [0.0106383 , 0.9893617 ]],\n",
       "\n",
       "       [[0.98837209, 0.01162791],\n",
       "        [0.01162791, 0.98837209]],\n",
       "\n",
       "       [[0.98550725, 0.01449275],\n",
       "        [0.01449275, 0.98550725]],\n",
       "\n",
       "       [[0.        , 1.        ],\n",
       "        [1.        , 0.        ]],\n",
       "\n",
       "       [[0.98969072, 0.01030928],\n",
       "        [0.01030928, 0.98969072]],\n",
       "\n",
       "       [[0.98245614, 0.01754386],\n",
       "        [0.01754386, 0.98245614]],\n",
       "\n",
       "       [[0.98113208, 0.01886792],\n",
       "        [0.01886792, 0.98113208]],\n",
       "\n",
       "       [[0.98876404, 0.01123596],\n",
       "        [0.01123596, 0.98876404]],\n",
       "\n",
       "       [[0.9893617 , 0.0106383 ],\n",
       "        [0.0106383 , 0.9893617 ]],\n",
       "\n",
       "       [[0.98360656, 0.01639344],\n",
       "        [0.01639344, 0.98360656]],\n",
       "\n",
       "       [[0.98039216, 0.01960784],\n",
       "        [0.01960784, 0.98039216]],\n",
       "\n",
       "       [[0.97058824, 0.02941176],\n",
       "        [0.02941176, 0.97058824]],\n",
       "\n",
       "       [[0.98507463, 0.01492537],\n",
       "        [0.01492537, 0.98507463]],\n",
       "\n",
       "       [[0.94444444, 0.05555556],\n",
       "        [0.05555556, 0.94444444]],\n",
       "\n",
       "       [[0.98684211, 0.01315789],\n",
       "        [0.01315789, 0.98684211]],\n",
       "\n",
       "       [[0.98076923, 0.01923077],\n",
       "        [0.01923077, 0.98076923]],\n",
       "\n",
       "       [[0.98484848, 0.01515152],\n",
       "        [0.01515152, 0.98484848]],\n",
       "\n",
       "       [[0.98823529, 0.01176471],\n",
       "        [0.01176471, 0.98823529]],\n",
       "\n",
       "       [[0.98275862, 0.01724138],\n",
       "        [0.01724138, 0.98275862]],\n",
       "\n",
       "       [[0.98245614, 0.01754386],\n",
       "        [0.01754386, 0.98245614]],\n",
       "\n",
       "       [[0.98571429, 0.01428571],\n",
       "        [0.01428571, 0.98571429]],\n",
       "\n",
       "       [[0.98591549, 0.01408451],\n",
       "        [0.01408451, 0.98591549]],\n",
       "\n",
       "       [[0.94736842, 0.05263158],\n",
       "        [0.05263158, 0.94736842]],\n",
       "\n",
       "       [[0.97916667, 0.02083333],\n",
       "        [0.02083333, 0.97916667]],\n",
       "\n",
       "       [[0.98823529, 0.01176471],\n",
       "        [0.01176471, 0.98823529]],\n",
       "\n",
       "       [[0.98734177, 0.01265823],\n",
       "        [0.01265823, 0.98734177]],\n",
       "\n",
       "       [[0.98901099, 0.01098901],\n",
       "        [0.01098901, 0.98901099]],\n",
       "\n",
       "       [[0.98333333, 0.01666667],\n",
       "        [0.01666667, 0.98333333]],\n",
       "\n",
       "       [[0.98837209, 0.01162791],\n",
       "        [0.01162791, 0.98837209]],\n",
       "\n",
       "       [[0.75      , 0.25      ],\n",
       "        [0.25      , 0.75      ]],\n",
       "\n",
       "       [[0.98611111, 0.01388889],\n",
       "        [0.01388889, 0.98611111]],\n",
       "\n",
       "       [[0.97297297, 0.02702703],\n",
       "        [0.02702703, 0.97297297]],\n",
       "\n",
       "       [[0.        , 1.        ],\n",
       "        [1.        , 0.        ]],\n",
       "\n",
       "       [[0.83333333, 0.16666667],\n",
       "        [0.16666667, 0.83333333]],\n",
       "\n",
       "       [[0.98      , 0.02      ],\n",
       "        [0.02      , 0.98      ]],\n",
       "\n",
       "       [[0.98684211, 0.01315789],\n",
       "        [0.01315789, 0.98684211]],\n",
       "\n",
       "       [[0.97826087, 0.02173913],\n",
       "        [0.02173913, 0.97826087]],\n",
       "\n",
       "       [[0.98333333, 0.01666667],\n",
       "        [0.01666667, 0.98333333]],\n",
       "\n",
       "       [[0.97142857, 0.02857143],\n",
       "        [0.02857143, 0.97142857]],\n",
       "\n",
       "       [[0.98      , 0.02      ],\n",
       "        [0.02      , 0.98      ]],\n",
       "\n",
       "       [[0.90909091, 0.09090909],\n",
       "        [0.09090909, 0.90909091]],\n",
       "\n",
       "       [[0.97727273, 0.02272727],\n",
       "        [0.02272727, 0.97727273]],\n",
       "\n",
       "       [[0.98076923, 0.01923077],\n",
       "        [0.01923077, 0.98076923]],\n",
       "\n",
       "       [[0.98039216, 0.01960784],\n",
       "        [0.01960784, 0.98039216]],\n",
       "\n",
       "       [[0.98958333, 0.01041667],\n",
       "        [0.01041667, 0.98958333]]])"
      ]
     },
     "execution_count": 24,
     "metadata": {},
     "output_type": "execute_result"
    }
   ],
   "source": [
    "tmats"
   ]
  },
  {
   "cell_type": "code",
   "execution_count": 25,
   "metadata": {},
   "outputs": [
    {
     "data": {
      "text/plain": [
       "array([[3.23984052e-19, 1.00000000e+00],\n",
       "       [1.77555055e-18, 1.00000000e+00]])"
      ]
     },
     "execution_count": 25,
     "metadata": {},
     "output_type": "execute_result"
    }
   ],
   "source": [
    "model.model.transmat_"
   ]
  },
  {
   "cell_type": "code",
   "execution_count": 10,
   "metadata": {},
   "outputs": [
    {
     "data": {
      "text/plain": [
       "array([[0.97192027, 0.02807973],\n",
       "       [0.00323048, 0.99676952]])"
      ]
     },
     "execution_count": 10,
     "metadata": {},
     "output_type": "execute_result"
    }
   ],
   "source": []
  },
  {
   "cell_type": "code",
   "execution_count": null,
   "metadata": {},
   "outputs": [],
   "source": []
  }
 ],
 "metadata": {
  "kernelspec": {
   "display_name": "DeepGapSeq",
   "language": "python",
   "name": "python3"
  },
  "language_info": {
   "codemirror_mode": {
    "name": "ipython",
    "version": 3
   },
   "file_extension": ".py",
   "mimetype": "text/x-python",
   "name": "python",
   "nbconvert_exporter": "python",
   "pygments_lexer": "ipython3",
   "version": "3.9.0"
  }
 },
 "nbformat": 4,
 "nbformat_minor": 2
}
